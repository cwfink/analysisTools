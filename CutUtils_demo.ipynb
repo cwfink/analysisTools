{
 "cells": [
  {
   "cell_type": "markdown",
   "metadata": {},
   "source": [
    "# Demo of CutUtils saving and loading structure\n",
    "\n",
    "### Author: Caleb Fink"
   ]
  },
  {
   "cell_type": "code",
   "execution_count": 2,
   "metadata": {},
   "outputs": [],
   "source": [
    "import numpy as np\n",
    "import sys\n",
    "sys.path.append('/scratch/cwfink/repositories/analysisTools/')\n",
    "from cuts import CutUtils \n",
    "%matplotlib inline\n",
    "%load_ext autoreload\n",
    "%autoreload 2\n"
   ]
  },
  {
   "cell_type": "markdown",
   "metadata": {},
   "source": [
    "### create CutUtils Object\n",
    "By default CutUtils will connect with the GitHub repo where it is located.\n",
    "\n",
    "For information on how to set up github repository for use with SSH, see:\n",
    "\n",
    "https://help.github.com/articles/changing-a-remote-s-url/#switching-remote-urls-from-https-to-ssh\n",
    "\n",
    "and to set up SSH key with GitHub acount:\n",
    "\n",
    "https://help.github.com/articles/adding-a-new-ssh-key-to-your-github-account/#platform-linux\n",
    "\n",
    "\n",
    "If the directory 'test_cuts/' does not yet exist, it will be created, along with 'test_cuts/current_cuts/' and 'test_cuts/archived_cuts/'\n",
    "\n",
    "\n"
   ]
  },
  {
   "cell_type": "code",
   "execution_count": 7,
   "metadata": {},
   "outputs": [
    {
     "name": "stdout",
     "output_type": "stream",
     "text": [
      "Connecting to GitHub Repository, please insure that your ssh keys have been uploaded to GitHub account\n"
     ]
    }
   ],
   "source": [
    "cuts = CutUtils('test_cuts/')"
   ]
  },
  {
   "cell_type": "markdown",
   "metadata": {},
   "source": [
    "### Make some cuts"
   ]
  },
  {
   "cell_type": "code",
   "execution_count": 9,
   "metadata": {},
   "outputs": [],
   "source": [
    "ctest = np.ones(shape = 100, dtype = bool)"
   ]
  },
  {
   "cell_type": "markdown",
   "metadata": {},
   "source": [
    "## Save new cut"
   ]
  },
  {
   "cell_type": "code",
   "execution_count": 10,
   "metadata": {},
   "outputs": [
    {
     "name": "stdout",
     "output_type": "stream",
     "text": [
      "No existing version of cut: ctest. \n",
      " Saving cut: ctest, to directory: /scratch/cwfink/repositories/analysisTools/test_cuts/current_cuts/\n",
      "syncing new cut with GitHub repo...\n"
     ]
    }
   ],
   "source": [
    "cuts.savecut(ctest, name='ctest', description='this is a stupid test cut')"
   ]
  },
  {
   "cell_type": "markdown",
   "metadata": {},
   "source": [
    "### Make a new cut and try to over write previously saved test"
   ]
  },
  {
   "cell_type": "code",
   "execution_count": 11,
   "metadata": {},
   "outputs": [
    {
     "name": "stdout",
     "output_type": "stream",
     "text": [
      "updating cut: ctest in directory: /scratch/cwfink/repositories/analysisTools/test_cuts/current_cuts/ and achiving old version\n",
      "syncing new cut with GitHub repo...\n",
      "old cut is saved as: /scratch/cwfink/repositories/analysisTools/test_cuts/archived_cuts/ctest_v0.npz\n",
      "syncing old cut with GitHub repo...\n"
     ]
    }
   ],
   "source": [
    "cnewtest = np.ones(shape = 100, dtype = bool)\n",
    "cnewtest[:4] = False\n",
    "cuts.savecut(cnewtest, name='ctest', description='this is another stupid test cut')"
   ]
  },
  {
   "cell_type": "markdown",
   "metadata": {},
   "source": [
    "### Make a few more cuts just to populate directories"
   ]
  },
  {
   "cell_type": "code",
   "execution_count": 13,
   "metadata": {},
   "outputs": [
    {
     "name": "stdout",
     "output_type": "stream",
     "text": [
      "No existing version of cut: csillytest. \n",
      " Saving cut: csillytest, to directory: /scratch/cwfink/repositories/analysisTools/test_cuts/current_cuts/\n",
      "syncing new cut with GitHub repo...\n",
      "No existing version of cut: creallysillytest. \n",
      " Saving cut: creallysillytest, to directory: /scratch/cwfink/repositories/analysisTools/test_cuts/current_cuts/\n",
      "syncing new cut with GitHub repo...\n",
      "updating cut: ctest in directory: /scratch/cwfink/repositories/analysisTools/test_cuts/current_cuts/ and achiving old version\n",
      "syncing new cut with GitHub repo...\n",
      "old cut is saved as: /scratch/cwfink/repositories/analysisTools/test_cuts/archived_cuts/ctest_v1.npz\n",
      "syncing old cut with GitHub repo...\n"
     ]
    }
   ],
   "source": [
    "cnewtest1 = np.ones(shape = 100, dtype = bool)\n",
    "cnewtest1[1:2] = False\n",
    "cnewtest2 = np.ones(shape = 100, dtype = bool)\n",
    "cnewtest2[3:44] = False\n",
    "cnewtest3 = np.ones(shape = 100, dtype = bool)\n",
    "cnewtest3[:99] = False\n",
    "\n",
    "\n",
    "cuts.savecut(cnewtest1, name='csillytest', description='this is a silly test cut')\n",
    "cuts.savecut(cnewtest2, name='creallysillytest', description='this is a really silly test cut')\n",
    "cuts.savecut(cnewtest3, name='ctest', description='this is stupid')"
   ]
  },
  {
   "cell_type": "markdown",
   "metadata": {},
   "source": [
    "### List the names of all the current cuts"
   ]
  },
  {
   "cell_type": "code",
   "execution_count": 15,
   "metadata": {},
   "outputs": [
    {
     "data": {
      "text/plain": [
       "['creallysillytest', 'csillytest', 'ctest']"
      ]
     },
     "execution_count": 15,
     "metadata": {},
     "output_type": "execute_result"
    }
   ],
   "source": [
    "cuts.listcuts(whichcuts='current')"
   ]
  },
  {
   "cell_type": "markdown",
   "metadata": {},
   "source": [
    "### List the names of all the archived cuts"
   ]
  },
  {
   "cell_type": "code",
   "execution_count": 17,
   "metadata": {},
   "outputs": [
    {
     "data": {
      "text/plain": [
       "['ctest_v1', 'ctest_v0']"
      ]
     },
     "execution_count": 17,
     "metadata": {},
     "output_type": "execute_result"
    }
   ],
   "source": [
    "cuts.listcuts(whichcuts='archived')"
   ]
  },
  {
   "cell_type": "markdown",
   "metadata": {},
   "source": [
    "### Let's reload a test and make sure it is the same as the cut we have defined in the namespace"
   ]
  },
  {
   "cell_type": "code",
   "execution_count": 20,
   "metadata": {},
   "outputs": [
    {
     "name": "stdout",
     "output_type": "stream",
     "text": [
      "The arrays are the same!\n"
     ]
    }
   ],
   "source": [
    "ctest_reload = cuts.loadcut('ctest', lgccurrent=True)\n",
    "if np.array_equal(cnewtest3, ctest_reload):\n",
    "    print('The arrays are the same!')"
   ]
  },
  {
   "cell_type": "markdown",
   "metadata": {},
   "source": [
    "### Now let's load the cut description for the current version of 'ctest' "
   ]
  },
  {
   "cell_type": "code",
   "execution_count": 21,
   "metadata": {},
   "outputs": [
    {
     "name": "stdout",
     "output_type": "stream",
     "text": [
      "this is stupid\n"
     ]
    }
   ],
   "source": [
    "print(cuts.loadcutdescription('ctest', lgccurrent=True))"
   ]
  },
  {
   "cell_type": "markdown",
   "metadata": {},
   "source": [
    "^ that sounds about right"
   ]
  },
  {
   "cell_type": "markdown",
   "metadata": {},
   "source": [
    "If this demo ran without any errors, then you have probably set up your GitHub account properly. If you encountered any errors, then you probably didn't... \n",
    "\n"
   ]
  }
 ],
 "metadata": {
  "kernelspec": {
   "display_name": "Python 3",
   "language": "python",
   "name": "python3"
  },
  "language_info": {
   "codemirror_mode": {
    "name": "ipython",
    "version": 3
   },
   "file_extension": ".py",
   "mimetype": "text/x-python",
   "name": "python",
   "nbconvert_exporter": "python",
   "pygments_lexer": "ipython3",
   "version": "3.6.5"
  }
 },
 "nbformat": 4,
 "nbformat_minor": 2
}
